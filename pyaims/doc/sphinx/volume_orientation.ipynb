{
 "cells": [
  {
   "cell_type": "markdown",
   "id": "59b69802",
   "metadata": {},
   "source": [
    "# Aims volume orientation manipulation and nibabel\n",
    "\n",
    "In Aims 5.2, indices axes orientation, memory layout and storage (disk) layout are known and can be manipulated and changed. This allows to use the axes we want, and convert from/to nibabel objects.\n",
    "\n",
    "For a complete documentation, please read https://brainvisa.info/cartodata/doxygen/cartovolumes.html#volume_orient"
   ]
  },
  {
   "cell_type": "markdown",
   "id": "081466a4",
   "metadata": {},
   "source": [
    "## imports"
   ]
  },
  {
   "cell_type": "code",
   "execution_count": 16,
   "id": "1720ce4a",
   "metadata": {},
   "outputs": [],
   "source": [
    "from soma import aims\n",
    "import nibabel\n",
    "import tempfile\n",
    "import os"
   ]
  },
  {
   "cell_type": "markdown",
   "id": "4ea9d2c8",
   "metadata": {},
   "source": [
    "## load a volume using both aims and niabel\n",
    "\n",
    "This will allow to compare"
   ]
  },
  {
   "cell_type": "code",
   "execution_count": 2,
   "id": "b7d3b8d5",
   "metadata": {},
   "outputs": [],
   "source": [
    "image_path = aims.carto.Paths.findResourceFile('anatomical_templates/MNI152_T1_1mm.nii.gz')\n",
    "avol = aims.read(image_path)\n",
    "nvol = nibabel.load(image_path)"
   ]
  },
  {
   "cell_type": "code",
   "execution_count": 3,
   "id": "63e337bb",
   "metadata": {},
   "outputs": [
    {
     "name": "stdout",
     "output_type": "stream",
     "text": [
      "aims    shape: (182, 218, 182, 1)\n",
      "nibabel shape: (182, 218, 182)\n",
      "aims voxel (100, 102, 62): 5933.0\n",
      "nibabel:                   6464.0\n"
     ]
    }
   ],
   "source": [
    "print('aims    shape:', avol.shape)\n",
    "print('nibabel shape:', nvol.shape)\n",
    "print('aims voxel (100, 102, 62):', avol[100, 102, 62, 0])\n",
    "print('nibabel:                  ', nvol.get_fdata()[100, 102, 62])"
   ]
  },
  {
   "cell_type": "markdown",
   "id": "d5e3afa5",
   "metadata": {},
   "source": [
    "As we see, voxels values are **not the same**: axes are actually flipped.\n",
    "Aims reads data in LPI orientation.\n",
    "Nibabel reads data in disk storage orientation (which thus depnds on haw data has been saved).\n",
    "\n",
    "## Check AIMS orientation and disk storage orientation"
   ]
  },
  {
   "cell_type": "code",
   "execution_count": 4,
   "id": "327ad99d",
   "metadata": {},
   "outputs": [
    {
     "name": "stdout",
     "output_type": "stream",
     "text": [
      "disk storage orientation: LAST\n",
      "AIMS volume orientation: LPIT\n"
     ]
    }
   ],
   "source": [
    "storage_orient_v = avol.storageLayoutOrientation()\n",
    "storage_orient = avol.referential().orientationStr(storage_orient_v)\n",
    "print('disk storage orientation:', storage_orient)\n",
    "print('AIMS volume orientation:', avol.referential().orientationStr())"
   ]
  },
  {
   "cell_type": "markdown",
   "id": "eb4bbb88",
   "metadata": {},
   "source": [
    "## Building an AIMS volume from nibabel data\n",
    "\n",
    "We must set the correct nibabel orientation on the volume, which is storage orientation."
   ]
  },
  {
   "cell_type": "code",
   "execution_count": 5,
   "id": "a8508ee6",
   "metadata": {},
   "outputs": [
    {
     "name": "stdout",
     "output_type": "stream",
     "text": [
      "aims from nibabel:\n",
      "orientation: LAST\n",
      "shape: (182, 218, 182, 1)\n"
     ]
    }
   ],
   "source": [
    "avol2 = aims.Volume(nvol.get_fdata())\n",
    "avol2.referential().setOrientation(storage_orient)\n",
    "print('aims from nibabel:\\norientation:', avol2.referential().orientationStr())\n",
    "print('shape:', avol2.shape)"
   ]
  },
  {
   "cell_type": "code",
   "execution_count": 9,
   "id": "421e74eb",
   "metadata": {},
   "outputs": [
    {
     "name": "stdout",
     "output_type": "stream",
     "text": [
      "aims from nibabel: 6464.0 == 6464.0 (nibabel)\n",
      "                          != 5933.0 (aims)\n"
     ]
    }
   ],
   "source": [
    "print('aims from nibabel:', avol2[100, 102, 62, 0], \"==\", nvol.get_fdata()[100, 102, 62], '(nibabel)')\n",
    "print('                          !=', avol[100, 102, 62, 0], '(aims)')"
   ]
  },
  {
   "cell_type": "markdown",
   "id": "0ece7349",
   "metadata": {},
   "source": [
    "As we are in storage orientation, we should use indices as in nibabel, which actually works !\n",
    "\n",
    "### Flipping to another orientation\n",
    "\n",
    "If we want to go back to the default AIMS orientation (LPI) without copying the voxels data, it is possible:"
   ]
  },
  {
   "cell_type": "code",
   "execution_count": 13,
   "id": "60bfbf54",
   "metadata": {},
   "outputs": [
    {
     "name": "stdout",
     "output_type": "stream",
     "text": [
      "in LPI orientation: 5933.0 == 5933.0 (aims)\n"
     ]
    }
   ],
   "source": [
    "avol2.flipToOrientation('LPI')\n",
    "print('in LPI orientation:', avol2[100, 102, 62, 0], '==', avol[100, 102, 62, 0], '(aims)')"
   ]
  },
  {
   "cell_type": "markdown",
   "id": "880d152b",
   "metadata": {},
   "source": [
    "## Building a Nibabel volume from AIMS data\n",
    "\n",
    "First let's see what is wrong when doing things too quickly..."
   ]
  },
  {
   "cell_type": "code",
   "execution_count": 15,
   "id": "d465cfce",
   "metadata": {},
   "outputs": [
    {
     "name": "stdout",
     "output_type": "stream",
     "text": [
      "nibabel from aims (LPI):\n",
      "shape: (182, 218, 182, 1)\n",
      "5933.0 !WARNING! matches aims but is wrong in nibabel orientation\n"
     ]
    }
   ],
   "source": [
    "nvol2 = nibabel.Nifti1Image(avol.np, None)\n",
    "print('nibabel from aims (LPI):\\nshape:', nvol2.shape)\n",
    "print(nvol2.get_fdata()[100, 102, 62, 0], '!WARNING! matches aims but is wrong in nibabel orientation')"
   ]
  },
  {
   "cell_type": "markdown",
   "id": "151422be",
   "metadata": {},
   "source": [
    "Actually the LPI-oriented array is used directly in nibabel. *This is not wrong in itself*, but nibabel does not know it is LPI, so saving the image will result in a flipped image."
   ]
  },
  {
   "cell_type": "code",
   "execution_count": 18,
   "id": "fc0e7bc9",
   "metadata": {},
   "outputs": [
    {
     "name": "stdout",
     "output_type": "stream",
     "text": [
      "saving to: /tmp/aims_volume_orientrjs5q6vi.nii\n"
     ]
    }
   ],
   "source": [
    "tfile = tempfile.mkstemp(prefix='aims_volume_orient', suffix='.nii')\n",
    "tfilename = tfile[1]\n",
    "os.close(tfile[0])\n",
    "print('saving to:', tfilename)"
   ]
  },
  {
   "cell_type": "code",
   "execution_count": 22,
   "id": "4b6095d5",
   "metadata": {},
   "outputs": [
    {
     "name": "stdout",
     "output_type": "stream",
     "text": [
      "after nibabel save/reload: [5933.] != 6464.0 (nibabel)\n"
     ]
    }
   ],
   "source": [
    "nibabel.save(nvol2, tfilename)\n",
    "nvol3 = nibabel.load(tfilename)\n",
    "print('after nibabel save/reload:', nvol3.get_fdata()[100, 102, 62], '!=', \n",
    "      nvol.get_fdata()[100, 102, 62], '(nibabel)')"
   ]
  },
  {
   "cell_type": "markdown",
   "id": "946678c3",
   "metadata": {},
   "source": [
    "The reloaded image is not like the original one: it is flipped since the orientation does not match the expected default one.\n",
    "Alternatively, providing an affine to nibabel.Nifti1Image could fix it. Let's use the aims orientation manipulation instead.\n",
    "\n",
    "Cleanup the temporary file, by the way..."
   ]
  },
  {
   "cell_type": "code",
   "execution_count": 27,
   "id": "f75f3bb8",
   "metadata": {},
   "outputs": [],
   "source": [
    "os.unlink(tfilename)"
   ]
  },
  {
   "cell_type": "markdown",
   "id": "ace1a91f",
   "metadata": {},
   "source": [
    "If we flip the AIMS volume to storage orientation before buildig the nibabel image from it, thigs are going right."
   ]
  },
  {
   "cell_type": "code",
   "execution_count": 25,
   "id": "48dc4ddd",
   "metadata": {},
   "outputs": [
    {
     "name": "stdout",
     "output_type": "stream",
     "text": [
      "nibabel from aims (storage):\n",
      "shape: (182, 218, 182, 1)\n",
      "6464.0 == 6464.0 (nibabel) *CORRECT!*\n"
     ]
    }
   ],
   "source": [
    "avol.flipToOrientation(storage_orient)\n",
    "nvol2 = nibabel.Nifti1Image(avol.np, None)\n",
    "print('nibabel from aims (storage):\\nshape:', nvol2.shape)\n",
    "print(nvol2.get_fdata()[100, 102, 62, 0], '==', nvol.get_fdata()[100, 102, 62], '(nibabel) *CORRECT!*')"
   ]
  },
  {
   "cell_type": "code",
   "execution_count": null,
   "id": "ad0b9a8b",
   "metadata": {},
   "outputs": [],
   "source": []
  }
 ],
 "metadata": {
  "kernelspec": {
   "display_name": "Python 3",
   "language": "python",
   "name": "python3"
  },
  "language_info": {
   "codemirror_mode": {
    "name": "ipython",
    "version": 3
   },
   "file_extension": ".py",
   "mimetype": "text/x-python",
   "name": "python",
   "nbconvert_exporter": "python",
   "pygments_lexer": "ipython3",
   "version": "3.10.6"
  }
 },
 "nbformat": 4,
 "nbformat_minor": 5
}
