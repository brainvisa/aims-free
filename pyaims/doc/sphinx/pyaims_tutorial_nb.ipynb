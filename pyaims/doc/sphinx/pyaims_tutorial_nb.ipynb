{
 "cells": [
  {
   "cell_type": "markdown",
   "metadata": {
    "deletable": true,
    "editable": true
   },
   "source": [
    "PyAims tutorial : programming with AIMS in Python language\n",
    "==========================================================\n",
    "\n",
    "This tutorial should work with Python 2 (2.6 or higher), and is also compatible with Python 3 (if pyaims is compiled in python3 mode).\n",
    "\n",
    "AIMS is a C++ library, but has python language bindings: [**PyAIMS**](http://brainvisa.info/pyaims/sphinx/). This means that the C++ classes and functions can be used from python. \n",
    "This has many advantages compared to pure C++:\n",
    "\n",
    "* Writing python scripts and programs is much easier and faster than C++: there is no fastidious and long compilation step.\n",
    "* Scripts are more flexible, can be modified on-the-fly, etc\n",
    "* It can be used interactively in a python interactive shell.\n",
    "* As pyaims is actually C++ code called from python, it is still fast to execute complex algorithms. \n",
    "  There is obviously an overhead to call C++ from python, but once in the C++ layer, it is C++ execution speed.\n",
    "\n",
    "A few examples of how to use and manipulate the main data structures will be shown here.\n",
    "\n",
    "The data for the examples in this section can be downloaded here: [ftp://ftp.cea.fr/pub/dsv/anatomist/data/demo_data.zip](ftp://ftp.cea.fr/pub/dsv/anatomist/data/demo_data.zip). \n",
    "To use the examples directly, users should go to the directory where this archive was uncompressed, and then run ipython from this directory.\n",
    "A cleaner alternative, especially if no write access is allowed on this data directory, is to make a symbolic link to the *data_for_anatomist* subdirectory\n",
    "\n",
    "```bash\n",
    "cd $HOME\n",
    "mkdir bvcourse\n",
    "cd bvcourse\n",
    "ln -s <path_to_data>/data_for_anatomist .\n",
    "ipython\n",
    "```\n",
    "\n",
    "Doing this in python:"
   ]
  },
  {
   "cell_type": "markdown",
   "metadata": {
    "deletable": true,
    "editable": true
   },
   "source": [
    "To work smoothly with python2 or python3, let's use print():"
   ]
  },
  {
   "cell_type": "code",
   "execution_count": 1,
   "metadata": {
    "collapsed": true,
    "deletable": true,
    "editable": true
   },
   "outputs": [],
   "source": [
    "from __future__ import print_function"
   ]
  },
  {
   "cell_type": "code",
   "execution_count": 2,
   "metadata": {
    "collapsed": false,
    "deletable": true,
    "editable": true
   },
   "outputs": [
    {
     "name": "stdout",
     "output_type": "stream",
     "text": [
      "we are working in: /tmp/pyaims_tutorial_mMtDlu\n"
     ]
    }
   ],
   "source": [
    "import urllib2\n",
    "import zipfile\n",
    "import os\n",
    "import os.path\n",
    "import tempfile\n",
    "# let's work in a temporary directory\n",
    "tuto_dir = tempfile.mkdtemp(prefix='pyaims_tutorial_')\n",
    "f = urllib2.urlopen('ftp://ftp.cea.fr/pub/dsv/anatomist/data/demo_data.zip')\n",
    "demo_data = os.path.join(tuto_dir, 'demo_data.zip')\n",
    "open(demo_data, 'w').write(f.read())\n",
    "f.close()\n",
    "older_cwd = os.getcwd()\n",
    "os.chdir(tuto_dir)\n",
    "f = zipfile.ZipFile(demo_data)\n",
    "f.extractall()\n",
    "del f\n",
    "print('we are working in:', tuto_dir)"
   ]
  },
  {
   "cell_type": "markdown",
   "metadata": {
    "deletable": true,
    "editable": true
   },
   "source": [
    "\n",
    "Using data structures\n",
    "---------------------\n",
    "\n",
    "### Module importation\n",
    "\n",
    "In python, the aimsdata library is available as the [soma.aims](index.html#module-soma.aims) module.\n"
   ]
  },
  {
   "cell_type": "code",
   "execution_count": 3,
   "metadata": {
    "collapsed": true,
    "deletable": true,
    "editable": true
   },
   "outputs": [],
   "source": [
    "import soma.aims\n",
    "# the module is actually soma.aims:\n",
    "vol = soma.aims.Volume(100, 100, 100, dtype='int16')"
   ]
  },
  {
   "cell_type": "markdown",
   "metadata": {
    "collapsed": true,
    "deletable": true,
    "editable": true
   },
   "source": [
    "or:"
   ]
  },
  {
   "cell_type": "code",
   "execution_count": 4,
   "metadata": {
    "collapsed": true,
    "deletable": true,
    "editable": true
   },
   "outputs": [],
   "source": [
    "from soma import aims\n",
    "# the module is available as aims (not soma.aims):\n",
    "vol = aims.Volume(100, 100, 100, dtype='int16')\n",
    "# in the following, we will be using this form because it is shorter."
   ]
  },
  {
   "cell_type": "markdown",
   "metadata": {
    "deletable": true,
    "editable": true
   },
   "source": [
    "### IO: reading and writing objects\n",
    "\n",
    "Reading operations are accessed via a single [soma.aims.read()](pyaims_highlevel.html#soma.aims.read) function, and writing through a single [soma.aims.write()](pyaims_highlevel.html#soma.aims.write) function. \n",
    "[soma.aims.read()](pyaims_highlevel.html#soma.aims.read) function reads any object from a given file name, in any supported file format, and returns it:\n"
   ]
  },
  {
   "cell_type": "code",
   "execution_count": 5,
   "metadata": {
    "collapsed": false,
    "deletable": true,
    "editable": true
   },
   "outputs": [
    {
     "name": "stdout",
     "output_type": "stream",
     "text": [
      "[ 256, 256, 124, 1 ]\n",
      "[ 53, 63, 46, 1 ]\n",
      "33837\n"
     ]
    }
   ],
   "source": [
    "from soma import aims\n",
    "obj = aims.read('data_for_anatomist/subject01/subject01.nii')\n",
    "print(obj.getSize())\n",
    "obj2 = aims.read('data_for_anatomist/subject01/Audio-Video_T_map.nii')\n",
    "print(obj2.getSize())\n",
    "obj3 = aims.read('data_for_anatomist/subject01/subject01_Lhemi.mesh')\n",
    "print(len(obj3.vertex(0)))\n",
    "assert(obj.getSize() == [256, 256, 124, 1])\n",
    "assert(obj2.getSize() == [53, 63, 46, 1])\n",
    "assert(obj3.size() == 1 and len(obj3.vertex(0)) == 33837)"
   ]
  },
  {
   "cell_type": "markdown",
   "metadata": {
    "deletable": true,
    "editable": true
   },
   "source": [
    "The returned object can have various types according to what is found in the disk file(s).\n",
    "\n",
    "Writing is just as easy. The file name extension generally determines the output format. \n",
    "An object read from a given format can be re-written in any other supported format, provided the format can actually store the object type."
   ]
  },
  {
   "cell_type": "code",
   "execution_count": 6,
   "metadata": {
    "collapsed": true,
    "deletable": true,
    "editable": true
   },
   "outputs": [],
   "source": [
    "from soma import aims\n",
    "obj2 = aims.read('data_for_anatomist/subject01/Audio-Video_T_map.nii')\n",
    "aims.write(obj2, 'Audio-Video_T_map.ima')\n",
    "obj3 = aims.read('data_for_anatomist/subject01/subject01_Lhemi.mesh')\n",
    "aims.write(obj3, 'subject01_Lhemi.gii')"
   ]
  },
  {
   "cell_type": "markdown",
   "metadata": {
    "deletable": true,
    "editable": true
   },
   "source": [
    "<div class=\"topic\">\n",
    "<p><b>Exercise</b></p>\n",
    "Write a little file format conversion tool\n",
    "</div>\n",
    "\n",
    "### Volumes\n",
    "\n",
    "Volumes are array-like containers of voxels, plus a set of additional information kept in a header structure. \n",
    "In AIMS, the header structure is generic and extensible, and does not depend on a specific file format. \n",
    "Voxels may have various types, so a specific type of volume should be used for a specific type of voxel. \n",
    "The type of voxel has a code that is used to suffix the Volume type: [soma.aims.Volume_S16](pyaims_lowlevel.html#soma.aims.soma.aims.Volume_S16) for signed 16-bit ints, [soma.aims.Volume_U32](pyaims_lowlevel.html#soma.aims.soma.aims.Volume_U32) \n",
    "for unsigned 32-bit ints, [soma.aims.Volume_FLOAT](pyaims_lowlevel.html#soma.aims.Volume_FLOAT) for 32-bit floats, [soma.aims.Volume_DOUBLE](pyaims_lowlevel.html#soma.aims.soma.aims.Volume_DOUBLE) for 64-bit floats, [soma.aims.Volume_RGBA](pyaims_lowlevel.html#soma.aims.soma.aims.Volume_RGBA) for RGBA colors, etc.\n",
    "\n",
    "\n",
    "#### Building a volume"
   ]
  },
  {
   "cell_type": "code",
   "execution_count": 7,
   "metadata": {
    "collapsed": false,
    "deletable": true,
    "editable": true
   },
   "outputs": [
    {
     "name": "stdout",
     "output_type": "stream",
     "text": [
      "12\n"
     ]
    }
   ],
   "source": [
    " # create a 3D volume of signed 16-bit ints, of size 192x256x128\n",
    "vol = aims.Volume(192, 256, 128, dtype='int16')\n",
    "# fill it with zeros\n",
    "vol.fill(0)\n",
    "# set value 12 at voxel (100, 100, 60)\n",
    "vol.setValue(12, 100, 100, 60)\n",
    "# get value at the same position\n",
    "x = vol.value(100, 100, 60)\n",
    "print(x)\n",
    "assert(x == 12)"
   ]
  },
  {
   "cell_type": "code",
   "execution_count": 8,
   "metadata": {
    "collapsed": false,
    "deletable": true,
    "editable": true
   },
   "outputs": [
    {
     "name": "stdout",
     "output_type": "stream",
     "text": [
      "{ 'sizeX' : 192, 'sizeY' : 256, 'sizeZ' : 128, 'sizeT' : 1, 'voxel_size' : [ 0.9, 0.9, 1.2, 1 ] }\n"
     ]
    }
   ],
   "source": [
    "# set the voxels size\n",
    "vol.header()['voxel_size'] = [0.9, 0.9, 1.2, 1.]\n",
    "print(vol.header())\n",
    "assert(vol.header() == {'sizeX': 192, 'sizeY': 256, 'sizeZ': 128, 'sizeT': 1, 'voxel_size': [0.9, 0.9, 1.2, 1]})"
   ]
  },
  {
   "cell_type": "markdown",
   "metadata": {
    "deletable": true,
    "editable": true
   },
   "source": [
    "![3D volume: value 12 at voxel (100, 100 ,60)](images/volume1.png \"3D volume: value 12 at voxel (100, 100 ,60)\")\n",
    "\n",
    "\n",
    "#### Basic operations\n",
    "\n",
    "Whole volume operations:"
   ]
  },
  {
   "cell_type": "code",
   "execution_count": 9,
   "metadata": {
    "collapsed": false,
    "deletable": true,
    "editable": true
   },
   "outputs": [
    {
     "name": "stdout",
     "output_type": "stream",
     "text": [
      "84\n",
      "60\n",
      "168\n"
     ]
    }
   ],
   "source": [
    "# multiplication, addition etc\n",
    "vol *= 2\n",
    "vol2 = vol * 3 + 12\n",
    "print(vol2.value(100, 100, 60))\n",
    "vol /= 2\n",
    "vol3 = vol2 - vol - 12\n",
    "print(vol3.value(100, 100, 60))\n",
    "vol4 = vol2 * vol / 6\n",
    "print(vol4.value(100, 100, 60))\n",
    "assert(vol2.value(100, 100, 60) == 84)\n",
    "assert(vol3.value(100, 100, 60) == 60)\n",
    "assert(vol4.value(100, 100, 60) == 168)"
   ]
  },
  {
   "cell_type": "markdown",
   "metadata": {
    "deletable": true,
    "editable": true
   },
   "source": [
    "Voxel-wise operations:"
   ]
  },
  {
   "cell_type": "code",
   "execution_count": 10,
   "metadata": {
    "collapsed": false,
    "deletable": true,
    "editable": true
   },
   "outputs": [
    {
     "name": "stdout",
     "output_type": "stream",
     "text": [
      "0\n"
     ]
    }
   ],
   "source": [
    "# fill the volume with the distance to voxel (100, 100, 60)\n",
    "vs = vol.header()['voxel_size']\n",
    "pos0 = (100 * vs[0], 100 * vs[1], 60 * vs[2]) # in millimeters\n",
    "for z in range(vol.getSizeZ()):\n",
    "    for y in range(vol.getSizeY()):\n",
    "        for x in range(vol.getSizeX()):\n",
    "            # get current position in an aims.Point3df structure, in mm\n",
    "            p = aims.Point3df(x * vs[0], y * vs[1], z * vs[2])\n",
    "            # get relative position to pos0, in voxels\n",
    "            p -= pos0\n",
    "            # distance: norm of vector p\n",
    "            dist = p.norm()\n",
    "            # set it into the volume\n",
    "            vol.setValue(dist, x, y, z)\n",
    "print(vol.value(100, 100, 60))\n",
    "# save the volume\n",
    "aims.write(vol, 'distance.nii')\n",
    "assert(vol.value(100, 100, 60) == 0)"
   ]
  },
  {
   "cell_type": "markdown",
   "metadata": {
    "deletable": true,
    "editable": true
   },
   "source": [
    "Now look at the *distance.nii* volume in Anatomist.\n",
    "\n",
    "![Distance example](images/distance.png \"Distance example\")\n",
    "\n",
    "\n",
    "<div class=\"topic\">\n",
    "<p><b>Exercise</b></p>\n",
    "\n",
    "Make a program which loads the image *data_for_anatomist/subject01/Audio-Video_T_map.nii* and thresholds it so as to keep values above 3.\n",
    "</div>\n"
   ]
  },
  {
   "cell_type": "code",
   "execution_count": 11,
   "metadata": {
    "collapsed": false,
    "deletable": true,
    "editable": true
   },
   "outputs": [
    {
     "name": "stdout",
     "output_type": "stream",
     "text": [
      "True\n",
      "0.0\n"
     ]
    }
   ],
   "source": [
    "from soma import aims\n",
    "vol = aims.read('data_for_anatomist/subject01/Audio-Video_T_map.nii')\n",
    "print(vol.value(20, 20, 20) < 3. and vol.value(20, 20, 20) != 0.)\n",
    "assert(vol.value(20, 20, 20) < 3. and vol.value(20, 20, 20) != 0.)\n",
    "for z in range(vol.getSizeZ()):\n",
    "    for y in range(vol.getSizeY()):\n",
    "        for x in range(vol.getSizeX()):\n",
    "            if vol.value(x, y, z) < 3.:\n",
    "                vol.setValue(0, x, y, z)\n",
    "print(vol.value(20, 20, 20))\n",
    "aims.write(vol, 'Audio-Video_T_thresholded.nii')\n",
    "assert(vol.value(20, 20, 20) == 0.)"
   ]
  },
  {
   "cell_type": "markdown",
   "metadata": {
    "deletable": true,
    "editable": true
   },
   "source": [
    "![Thresholded Audio-Video T-map](images/threshold.png \"Thresholded Audio-Video T-map\")\n",
    "\n",
    "<div class=\"topic\">\n",
    "<p><b>Exercise</b></p>\n",
    "\n",
    "Make a program to dowsample the anatomical image *data_for_anatomist/subject01/subject01.nii* and keeps one voxel out of two in every direction.\n",
    "</div>"
   ]
  },
  {
   "cell_type": "code",
   "execution_count": 12,
   "metadata": {
    "collapsed": false,
    "deletable": true,
    "editable": true
   },
   "outputs": [
    {
     "name": "stdout",
     "output_type": "stream",
     "text": [
      "128\n",
      "775\n",
      "775.0\n"
     ]
    }
   ],
   "source": [
    "from soma import aims\n",
    "vol = aims.read('data_for_anatomist/subject01/subject01.nii')\n",
    "# allocate a new volume with half dimensions\n",
    "vol2 = aims.Volume(vol.getSizeX() / 2, vol.getSizeY() / 2, vol.getSizeZ() / 2, dtype='DOUBLE')\n",
    "print(vol2.getSizeX())\n",
    "assert(vol2.getSizeX() == 128)\n",
    "# set the voxel size to twice it was in vol\n",
    "vs = vol.header()['voxel_size']\n",
    "vs2 = [x * 2 for x in vs]\n",
    "vol2.header()['voxel_size'] = vs2\n",
    "for z in range(vol2.getSizeZ()):\n",
    "    for y in range(vol2.getSizeY()):\n",
    "        for x in range(vol2.getSizeX()):\n",
    "            vol2.setValue(vol.value(x*2, y*2, z*2), x, y, z)\n",
    "print(vol.value(100, 100, 40))\n",
    "print(vol2.value(50, 50, 20))\n",
    "aims.write(vol2, 'resampled.nii')\n",
    "assert(vol.value(100, 100, 40) == 775)\n",
    "assert(vol2.value(50, 50, 20) == 775.)"
   ]
  },
  {
   "cell_type": "markdown",
   "metadata": {
    "deletable": true,
    "editable": true
   },
   "source": [
    "![Downsampled anatomical image](images/resampled.png \"Downsampled anatomical image\")\n",
    "\n",
    "The first thing that comes to mind when running these examples, is that they are *slow*. \n",
    "Indeed, python is an interpreted language and loops in any interpreted language are slow. \n",
    "In addition, accessing individually each voxel of the volume has the overhead of python/C++ bindings communications. \n",
    "The conclusion is that that kind of example is probably a bit too low-level, and should be done, when possible, by compiled libraries or specialized array-handling libraries. \n",
    "This is the role of **numpy**.\n",
    "\n",
    "Accessing numpy arrays to AIMS volume voxels is supported:"
   ]
  },
  {
   "cell_type": "code",
   "execution_count": 13,
   "metadata": {
    "collapsed": false,
    "deletable": true,
    "editable": true
   },
   "outputs": [
    {
     "name": "stdout",
     "output_type": "stream",
     "text": [
      "100\n",
      "0\n"
     ]
    }
   ],
   "source": [
    "import numpy\n",
    "vol.fill(0)\n",
    "arr = numpy.asarray(vol)\n",
    "# set value 100 in a whole sub-volume\n",
    "arr[60:120, 60:120, 40:80] = 100\n",
    "# note that arr is a shared view to the volume contents,\n",
    "# modifications will also affect the volume\n",
    "print(vol.value(65, 65, 42))\n",
    "print(vol.value(65, 65, 30))\n",
    "aims.write(vol, \"cube.nii\")\n",
    "assert(vol.value(65, 65, 42) == 100)\n",
    "assert(vol.value(65, 65, 30) == 0)"
   ]
  },
  {
   "cell_type": "markdown",
   "metadata": {
    "deletable": true,
    "editable": true
   },
   "source": [
    "![3D volume containing a cube](images/cube.png \"3D volume containing a cube\")\n",
    "\n",
    "Now we can re-write the thresholding example using numpy:"
   ]
  },
  {
   "cell_type": "code",
   "execution_count": 14,
   "metadata": {
    "collapsed": false,
    "deletable": true,
    "editable": true
   },
   "outputs": [
    {
     "name": "stdout",
     "output_type": "stream",
     "text": [
      "0.0\n"
     ]
    }
   ],
   "source": [
    "from soma import aims\n",
    "vol = aims.read('data_for_anatomist/subject01/Audio-Video_T_map.nii')\n",
    "arr = numpy.asarray(vol)\n",
    "arr[numpy.where(arr < 3.)] = 0.\n",
    "print(vol.value(20, 20, 20))\n",
    "aims.write(vol, 'Audio-Video_T_thresholded2.nii')\n",
    "assert(vol.value(20, 20, 20) == 0)"
   ]
  },
  {
   "cell_type": "markdown",
   "metadata": {
    "deletable": true,
    "editable": true
   },
   "source": [
    "Here, `arr < 3.` returns a boolean array with the same size as `arr`, and [numpy.where()](https://docs.scipy.org/doc/numpy/reference/generated/numpy.where.html) returns arrays of coordinates where the specified contition is true.\n",
    "\n",
    "The distance example, using numpy, would like the following:\n"
   ]
  },
  {
   "cell_type": "code",
   "execution_count": 29,
   "metadata": {
    "collapsed": false,
    "deletable": true,
    "editable": true
   },
   "outputs": [
    {
     "name": "stdout",
     "output_type": "stream",
     "text": [
      "0\n"
     ]
    }
   ],
   "source": [
    "from soma import aims\n",
    "import numpy\n",
    "vol = aims.Volume(192, 256, 128, 'S16')\n",
    "vol.header()['voxel_size'] = [0.9, 0.9, 1.2, 1.]\n",
    "vs = vol.header()['voxel_size']\n",
    "pos0 = (100 * vs[0], 100 * vs[1], 60 * vs[2]) # in millimeters\n",
    "arr = numpy.asarray(vol)\n",
    "# build arrays of coordinates for x, y, z\n",
    "x, y, z = numpy.ogrid[0.:vol.getSizeX(), 0.:vol.getSizeY(), 0.:vol.getSizeZ()]\n",
    "# get coords in millimeters\n",
    "x *= vs[0]\n",
    "y *= vs[1]\n",
    "z *= vs[2]\n",
    "# relative to pos0\n",
    "x -= pos0[0]\n",
    "y -= pos0[1]\n",
    "z -= pos0[2]\n",
    "# get norm, using numpy arrays broadcasting\n",
    "arr[:, :, :, 0] = numpy.sqrt(x**2 + y**2 + z**2)\n",
    "\n",
    "print(vol.value(100, 100, 60))\n",
    "assert(vol.value(100, 100, 60) == 0)\n",
    "\n",
    "# and save result\n",
    "aims.write(vol, 'distance2.nii')"
   ]
  },
  {
   "cell_type": "markdown",
   "metadata": {
    "deletable": true,
    "editable": true
   },
   "source": [
    "This example appears a bit more tricky, since we must build the coordinates arrays, but is way faster to execute, because all loops within the code are executed in compiled routines in numpy. \n",
    "One interesting thing to note is that this code is using the famous \"array broadcasting\" feature of numpy, where arrays of heterogeneous sizes can be combined, and the \"missing\" dimensions are extended.\n",
    "\n",
    "\n",
    "#### Copying volumes or volumes structure, or building from an array\n",
    "\n",
    "To make a deep-copy of a volume, use the copy constructor:\n"
   ]
  },
  {
   "cell_type": "code",
   "execution_count": 33,
   "metadata": {
    "collapsed": false,
    "deletable": true,
    "editable": true
   },
   "outputs": [
    {
     "name": "stdout",
     "output_type": "stream",
     "text": [
      "vol.value(100, 100, 60): 0\n",
      "vol2.value(100, 100, 60): 12\n"
     ]
    }
   ],
   "source": [
    "vol2 = aims.Volume(vol)\n",
    "vol2.setValue(12, 100, 100, 60)\n",
    "# now vol and vol2 have different values\n",
    "print('vol.value(100, 100, 60):', vol.value(100, 100, 60))\n",
    "assert(vol.value(100, 100, 60) == 0)\n",
    "print('vol2.value(100, 100, 60):', vol2.value(100, 100, 60))\n",
    "assert(vol2.value(100, 100, 60) == 12)"
   ]
  },
  {
   "cell_type": "markdown",
   "metadata": {
    "deletable": true,
    "editable": true
   },
   "source": [
    "If you need to build another, different volume, with the same structure and size, don't forget to copy the header part:"
   ]
  },
  {
   "cell_type": "code",
   "execution_count": 34,
   "metadata": {
    "collapsed": false,
    "deletable": true,
    "editable": true
   },
   "outputs": [
    {
     "name": "stdout",
     "output_type": "stream",
     "text": [
      "{ 'sizeX' : 192, 'sizeY' : 256, 'sizeZ' : 128, 'sizeT' : 1, 'voxel_size' : [ 0.9, 0.9, 1.2, 1 ] }\n"
     ]
    }
   ],
   "source": [
    "vol2 = aims.Volume(vol.getSizeX(), vol.getSizeY(), vol.getSizeZ(), vol.getSizeT(), 'FLOAT')\n",
    "vol2.header().update(vol.header())\n",
    "print(vol2.header())\n",
    "assert(vol2.header() == {'sizeX': 192, 'sizeY': 256, 'sizeZ': 128, 'sizeT': 1, 'voxel_size': [0.9, 0.9, 1.2, 1]})"
   ]
  },
  {
   "cell_type": "markdown",
   "metadata": {
    "deletable": true,
    "editable": true
   },
   "source": [
    "Important information can reside in the header, like voxel size, or coordinates systems and geometric transformations to other coordinates systems, \n",
    "so it is really very important to carry this information with duplicated or derived volumes.\n",
    "\n",
    "You can also build a volume from a numpy array:"
   ]
  },
  {
   "cell_type": "code",
   "execution_count": 39,
   "metadata": {
    "collapsed": false,
    "deletable": true,
    "editable": true
   },
   "outputs": [
    {
     "name": "stdout",
     "output_type": "stream",
     "text": [
      "vol.value(10, 12, 3): 25.0\n",
      "arr[10, 15, 2]: 35.0\n",
      "vol.value(12, 15, 1): 44.0\n"
     ]
    }
   ],
   "source": [
    "arr = numpy.array(numpy.diag(xrange(40)), dtype=numpy.float32).reshape(40, 40, 1) \\\n",
    "    + numpy.array(xrange(20), dtype=numpy.float32).reshape(1, 1, 20)\n",
    "# WARNING: the array must be in Fortran ordering for AIMS, at leat at the moment\n",
    "# whereas the numpy addition always returns a C-ordered array\n",
    "arr = numpy.array(arr, order='F')\n",
    "arr[10, 12, 3] = 25\n",
    "vol = aims.Volume(arr)\n",
    "print('vol.value(10, 12, 3):', vol.value(10, 12, 3))\n",
    "assert(vol.value(10, 12, 3) == 25.)\n",
    "\n",
    "# data are shared with arr\n",
    "vol.setValue(35, 10, 15, 2)\n",
    "print('arr[10, 15, 2]:', arr[10, 15, 2])\n",
    "assert(arr[10, 15, 2] == 35.0)\n",
    "arr[12, 15, 1] = 44\n",
    "print('vol.value(12, 15, 1):', vol.value(12, 15, 1))\n",
    "assert(vol.value(12, 15, 1) == 44.0)"
   ]
  },
  {
   "cell_type": "markdown",
   "metadata": {
    "deletable": true,
    "editable": true
   },
   "source": [
    "#### 4D volumes\n",
    "\n",
    "4D volumes work just like 3D volumes. Actually all volumes are 4D in AIMS, but the last dimension is commonly of size 1. \n",
    "In [soma.aims.Volume_FLOAT.value](pyaims_lowlevel.html#soma.aims.Volume_FLOAT.value) and [soma.aims.Volume_FLOAT.setValue](pyaims_lowlevel.html#soma.aims.Volume_FLOAT.setValue) methods, only the first dimension is mandatory, \n",
    "others are optional and default to 0, but up to 4 coordinates may be used. In the same way, the constructor takes up to 4 dimension parameters:\n"
   ]
  },
  {
   "cell_type": "code",
   "execution_count": 42,
   "metadata": {
    "collapsed": false,
    "deletable": true,
    "editable": true
   },
   "outputs": [
    {
     "name": "stdout",
     "output_type": "stream",
     "text": [
      "12\n",
      "{ 'sizeX' : 30, 'sizeY' : 30, 'sizeZ' : 30, 'sizeT' : 4, 'voxel_size' : [ 0.9, 0.9, 1.2, 1 ] }\n"
     ]
    }
   ],
   "source": [
    "from soma import aims\n",
    "# create a 4D volume of signed 16-bit ints, of size 30x30x30x4\n",
    "vol = aims.Volume(30, 30, 30, 4, 'S16')\n",
    "# fill it with zeros\n",
    "vol.fill(0)\n",
    "# set value 12 at voxel (10, 10, 20, 2)\n",
    "vol.setValue(12, 10, 10, 20, 2)\n",
    "# get value at the same position\n",
    "x = vol.value(10, 10, 20, 2)\n",
    "print(x)\n",
    "assert(x == 12)\n",
    "# set the voxels size\n",
    "vol.header()['voxel_size'] = [0.9, 0.9, 1.2, 1.]\n",
    "print(vol.header())\n",
    "assert(vol.header() == {'sizeX': 30, 'sizeY': 30, 'sizeZ': 30, 'sizeT': 4, 'voxel_size': [0.9, 0.9, 1.2, 1]})"
   ]
  },
  {
   "cell_type": "markdown",
   "metadata": {
    "deletable": true,
    "editable": true
   },
   "source": [
    "Similarly, 1D or 2D volumes may be used exactly the same way.\n",
    "\n",
    "\n",
    "#### The older AimsData classes\n",
    "\n",
    "For historical reasons, another set of classes may also represent volumes. These classes are the older API in AIMS, and tend to be obsolete. \n",
    "But as they were used in many many routines and programs, they have still not been eradicated. \n",
    "Many C++ routines build volumes and actually return those older classes, so we could not really hide them, and they also have python bindings. \n",
    "These classes are `aims.AimsData_<type>`, for example [soma.aims.AimsData_FLOAT](pyaims_lowlevel.html#soma.aims.AimsData_FLOAT). \n",
    "Converting from and to [soma.aims.Volume_FLOAT](pyaims_lowlevel.html#soma.aims.Volume_FLOAT) classes is rather simple since the newer `Volume` classes are used internally in the `AimsData` API.\n"
   ]
  },
  {
   "cell_type": "code",
   "execution_count": 43,
   "metadata": {
    "collapsed": false,
    "deletable": true,
    "editable": true
   },
   "outputs": [
    {
     "name": "stdout",
     "output_type": "stream",
     "text": [
      "advol.value(10, 10, 20, 2): 12\n",
      "vol.value(12, 12, 24, 1): 44\n"
     ]
    }
   ],
   "source": [
    "from soma import aims\n",
    "# create a 4D volume of signed 16-bit ints, of size 30x30x30x4\n",
    "vol = aims.Volume(30, 30, 30, 4, 'S16')\n",
    "vol.header()['voxel_size'] = [0.9, 0.9, 1.2, 1.]\n",
    "advol = aims.AimsData(vol)\n",
    "# vol and advol share the same header and voxel data\n",
    "vol.setValue(12, 10, 10, 20, 2)\n",
    "print('advol.value(10, 10, 20, 2):', advol.value(10, 10, 20, 2))\n",
    "assert(advol.value(10, 10, 20, 2) == 12)\n",
    "advol.setValue(44, 12, 12, 24, 1)\n",
    "print('vol.value(12, 12, 24, 1):', vol.value(12, 12, 24, 1))\n",
    "assert(vol.value(12, 12, 24, 1) == 44)"
   ]
  },
  {
   "cell_type": "markdown",
   "metadata": {
    "deletable": true,
    "editable": true
   },
   "source": [
    "And, in the other direction:"
   ]
  },
  {
   "cell_type": "code",
   "execution_count": 44,
   "metadata": {
    "collapsed": false,
    "deletable": true,
    "editable": true
   },
   "outputs": [
    {
     "name": "stdout",
     "output_type": "stream",
     "text": [
      "advol.value(10, 10, 20, 2): 12\n",
      "vol.value(12, 12, 24, 1): 44\n"
     ]
    }
   ],
   "source": [
    "# create a 4D volume of signed 16-bit ints, of size 30x30x30x4\n",
    "advol = aims.AimsData(30, 30, 30, 4, 'S16')\n",
    "advol.header()['voxel_size'] = [0.9, 0.9, 1.2, 1.]\n",
    "vol = advol.volume()\n",
    "# vol and advol share the same header and voxel data\n",
    "vol.setValue(12, 10, 10, 20, 2)\n",
    "print('advol.value(10, 10, 20, 2):', advol.value(10, 10, 20, 2))\n",
    "assert(advol.value(10, 10, 20, 2) == 12)\n",
    "advol.setValue(44, 12, 12, 24, 1)\n",
    "print('vol.value(12, 12, 24, 1):', vol.value(12, 12, 24, 1))\n",
    "assert(vol.value(12, 12, 24, 1) == 44)"
   ]
  },
  {
   "cell_type": "markdown",
   "metadata": {
    "deletable": true,
    "editable": true
   },
   "source": [
    "`AimsData` has a bit richer API, since it includes minor processing functions that have been removed from the newer `Volume` for the sake of API simplicity and minimalism."
   ]
  },
  {
   "cell_type": "code",
   "execution_count": 45,
   "metadata": {
    "collapsed": false,
    "deletable": true,
    "editable": true
   },
   "outputs": [
    {
     "name": "stdout",
     "output_type": "stream",
     "text": [
      "min: 0 at ((0, 0, 0, 0), 0)\n",
      "max: 44 at ((12, 12, 24, 1), 44)\n"
     ]
    }
   ],
   "source": [
    "# minimum / maximum\n",
    "print('min:', advol.minimum(), 'at', advol.minIndex())\n",
    "assert(advol.minimum() == 0)\n",
    "assert(advol.minIndex() == ((0, 0, 0, 0), 0))\n",
    "print('max:', advol.maximum(), 'at', advol.maxIndex())\n",
    "assert(advol.maximum() == 44)\n",
    "assert(advol.maxIndex() == ((12, 12, 24, 1), 44))"
   ]
  },
  {
   "cell_type": "code",
   "execution_count": 46,
   "metadata": {
    "collapsed": false,
    "deletable": true,
    "editable": true
   },
   "outputs": [
    {
     "name": "stdout",
     "output_type": "stream",
     "text": [
      "advol.value(4, 8, 11, 3): 0\n",
      "advol2.value(4, 8, 11, 3): 12\n"
     ]
    }
   ],
   "source": [
    "# clone copy\n",
    "advol2 = advol.clone()\n",
    "advol2.setValue(12, 4, 8, 11, 3)\n",
    "# now advol and advol2 have different values\n",
    "print('advol.value(4, 8, 11, 3):', advol.value(4, 8, 11, 3))\n",
    "assert(advol.value(4, 8, 11, 3) == 0)\n",
    "print('advol2.value(4, 8, 11, 3):', advol2.value(4, 8, 11, 3))\n",
    "assert(advol2.value(4, 8, 11, 3) == 12)"
   ]
  },
  {
   "cell_type": "code",
   "execution_count": 47,
   "metadata": {
    "collapsed": false,
    "deletable": true,
    "editable": true
   },
   "outputs": [
    {
     "name": "stdout",
     "output_type": "stream",
     "text": [
      "refvol.value(100, 100, 60): 0\n",
      "refvol.value(102, 102, 62): 15\n"
     ]
    }
   ],
   "source": [
    "# Border handling\n",
    "# Border width is th 5th parameter of AimsData constructor\n",
    "advol = aims.AimsData(192, 256, 128, 1, 2, 'S16')\n",
    "advol.header()['voxel_size'] = [0.9, 0.9, 1.2, 1.]\n",
    "advol.fill(0)\n",
    "advol.setValue(15, 100, 100, 60)\n",
    "vol = advol.volume()\n",
    "refvol = vol.refVolume()\n",
    "# the underlying refvol is 4 voxels wider in each direction, and shifted:\n",
    "print('refvol.value(100, 100, 60):', refvol.value(100, 100, 60))\n",
    "assert(refvol.value(100, 100, 60) == 0)\n",
    "# ... it is 0, not 15...\n",
    "print('refvol.value(102, 102, 62):', refvol.value(102, 102, 62))\n",
    "assert(refvol.value(102, 102, 62) == 15)\n",
    "# here we get 15\n",
    "# some algorithms require this border to exist, otherwise fail or crash...\n",
    "from soma import aimsalgo\n",
    "aimsalgo.AimsDistanceFrontPropagation(advol, 0, -1, 3, 3, 3, 10, 10)\n",
    "aims.write(advol, 'distance3.nii')"
   ]
  },
  {
   "cell_type": "markdown",
   "metadata": {
    "deletable": true,
    "editable": true
   },
   "source": [
    "### Meshes\n",
    "\n",
    "#### Structure\n",
    "\n",
    "A surfacic mesh represents a surface, as a set of small polygons (generally triangles, but sometimes quads). \n",
    "It has two main components: a vector of vertices (each vertex is a 3D point, with coordinates in millimeters), \n",
    "and a vector of polygons: each polygon is defined by the vertices it links (3 for a triangle). It also optionally has normals (unit vectors). \n",
    "In our mesh structures, there is one normal for each vertex.\n"
   ]
  },
  {
   "cell_type": "code",
   "execution_count": 48,
   "metadata": {
    "collapsed": false,
    "deletable": true,
    "editable": true
   },
   "outputs": [
    {
     "name": "stdout",
     "output_type": "stream",
     "text": [
      "vertices: 33837\n",
      "polygons: 67678\n",
      "normals: 33837\n"
     ]
    }
   ],
   "source": [
    "from soma import aims\n",
    "mesh = aims.read('data_for_anatomist/subject01/subject01_Lhemi.mesh')\n",
    "vert = mesh.vertex()\n",
    "print('vertices:', len(vert))\n",
    "assert(len(vert) == 33837)\n",
    "poly = mesh.polygon()\n",
    "print('polygons:', len(poly))\n",
    "assert(len(poly) == 67678)\n",
    "norm = mesh.normal()\n",
    "print('normals:', len(norm))\n",
    "assert(len(norm) == 33837)"
   ]
  },
  {
   "cell_type": "markdown",
   "metadata": {
    "deletable": true,
    "editable": true
   },
   "source": [
    "To build a mesh, we can instantiate an object of type `aims.AimsTimeSurface_<n>_VOID`,\n",
    "for example [soma.aims.AimsTimeSurface_3_VOID](pyaims_lowlevel.html#soma.aims.AimsTimeSurface_3_VOID), with *n* being the number of vertices by polygon. VOID means that the mesh has no texture in it (which we generally don't use, we prefer using texture as separate objects).\n",
    "Then we can add vertices, normals and polygons to the mesh:"
   ]
  },
  {
   "cell_type": "code",
   "execution_count": 49,
   "metadata": {
    "collapsed": true,
    "deletable": true,
    "editable": true
   },
   "outputs": [],
   "source": [
    "# build a flying saucer mesh\n",
    "from soma import aims\n",
    "import numpy\n",
    "mesh = aims.AimsTimeSurface(3)\n",
    "# a mesh has a header\n",
    "mesh.header()['toto'] = 'a message in the header'\n",
    "vert = mesh.vertex()\n",
    "poly = mesh.polygon()\n",
    "x = numpy.cos(numpy.ogrid[0.: 20] * numpy.pi / 10.) * 100\n",
    "y = numpy.sin(numpy.ogrid[0.: 20] * numpy.pi / 10.) * 100\n",
    "z = numpy.zeros(20)\n",
    "c = numpy.vstack((x, y, z)).transpose()\n",
    "vert.assign([aims.Point3df(0., 0., -40.), aims.Point3df(0., 0., 40.)] + [aims.Point3df(x) for x in c])\n",
    "pol = numpy.vstack((numpy.zeros(20, dtype=numpy.int32), numpy.ogrid[3: 23], numpy.ogrid[2: 22])).transpose()\n",
    "pol[19, 1] = 2\n",
    "pol2 = numpy.vstack((numpy.ogrid[2: 22], numpy.ogrid[3: 23], numpy.ones(20, dtype=numpy.int32))).transpose()\n",
    "pol2[19, 1] = 2\n",
    "poly.assign([aims.AimsVector(x, dtype='U32',dim=3) for x in numpy.vstack((pol, pol2))])\n",
    "# write result\n",
    "aims.write(mesh, 'saucer.mesh')\n",
    "# automatically calculate normals\n",
    "mesh.updateNormals()"
   ]
  },
  {
   "cell_type": "markdown",
   "metadata": {
    "deletable": true,
    "editable": true
   },
   "source": [
    "![Flying saucer mesh](images/saucer.png \"Flying saucer mesh\")\n",
    "\n",
    "\n",
    "#### Modifying a mesh"
   ]
  },
  {
   "cell_type": "code",
   "execution_count": 50,
   "metadata": {
    "collapsed": true,
    "deletable": true,
    "editable": true
   },
   "outputs": [],
   "source": [
    "# slightly inflate a mesh\n",
    "from soma import aims\n",
    "import numpy\n",
    "mesh = aims.read('data_for_anatomist/subject01/subject01_Lwhite.mesh')\n",
    "vert = mesh.vertex()\n",
    "varr = numpy.array(vert)\n",
    "norm = numpy.array(mesh.normal())\n",
    "varr += norm * 2 # push vertices 2mm away along normal\n",
    "vert.assign([aims.Point3df(x) for x in varr])\n",
    "mesh.updateNormals()\n",
    "aims.write(mesh, 'subject01_Lwhite_semiinflated.mesh')"
   ]
  },
  {
   "cell_type": "markdown",
   "metadata": {
    "deletable": true,
    "editable": true
   },
   "source": [
    "Now look at both meshes in Anatomist...\n",
    "\n",
    "Alternatively, without numpy, we could have written the code like this:"
   ]
  },
  {
   "cell_type": "code",
   "execution_count": 52,
   "metadata": {
    "collapsed": true,
    "deletable": true,
    "editable": true
   },
   "outputs": [],
   "source": [
    "mesh = aims.read('data_for_anatomist/subject01/subject01_Lwhite.mesh')\n",
    "vert = mesh.vertex()\n",
    "norm = mesh.normal()\n",
    "for v, n in zip(vert, norm):\n",
    "    v += n * 2\n",
    "mesh.updateNormals()\n",
    "aims.write(mesh, 'subject01_Lwhite_semiinflated.mesh')"
   ]
  },
  {
   "cell_type": "markdown",
   "metadata": {
    "deletable": true,
    "editable": true
   },
   "source": [
    "![Inflated mesh](images/semi_inflated.png \"Inflated mesh\")\n",
    "\n",
    "\n",
    "#### Handling time\n",
    "\n",
    "In AIMS, meshes are actually time-indexed dictionaries of meshes. \n",
    "This way a deforming mesh can be stored in the same object. \n",
    "To copy a timestep to another, use the following:"
   ]
  },
  {
   "cell_type": "code",
   "execution_count": 53,
   "metadata": {
    "collapsed": false,
    "deletable": true,
    "editable": true
   },
   "outputs": [
    {
     "name": "stdout",
     "output_type": "stream",
     "text": [
      "number of time steps: 2\n"
     ]
    }
   ],
   "source": [
    "from soma import aims\n",
    "mesh = aims.read('data_for_anatomist/subject01/subject01_Lwhite.mesh')\n",
    "# mesh.vertex() is equivalent to mesh.vertex(0)\n",
    "mesh.vertex(1).assign(mesh.vertex(0))\n",
    "# same for normals and polygons\n",
    "mesh.normal(1).assign(mesh.normal(0))\n",
    "mesh.polygon(1).assign(mesh.polygon(0))\n",
    "print('number of time steps:', mesh.size())\n",
    "assert(mesh.size() == 2)"
   ]
  },
  {
   "cell_type": "markdown",
   "metadata": {
    "deletable": true,
    "editable": true
   },
   "source": [
    "<div class=\"topic\">\n",
    "<p><b>Exercise</b></p>\n",
    "Make a deforming mesh that goes from the original mesh to 5mm away, by steps of 0.5 mm\n",
    "</div>"
   ]
  },
  {
   "cell_type": "code",
   "execution_count": 54,
   "metadata": {
    "collapsed": false,
    "deletable": true,
    "editable": true
   },
   "outputs": [
    {
     "name": "stdout",
     "output_type": "stream",
     "text": [
      "number of time steps: 10\n"
     ]
    }
   ],
   "source": [
    "from soma import aims\n",
    "import numpy\n",
    "mesh = aims.read('data_for_anatomist/subject01/subject01_Lwhite.mesh')\n",
    "vert = mesh.vertex()\n",
    "varr = numpy.array(vert)\n",
    "norm = numpy.array(mesh.normal())\n",
    "for i in xrange(1, 10):\n",
    "    mesh.normal(i).assign(mesh.normal())\n",
    "    mesh.polygon(i).assign(mesh.polygon())\n",
    "    varr += norm * 0.5\n",
    "    mesh.vertex(i).assign([aims.Point3df(x) for x in varr])\n",
    "print('number of time steps:', mesh.size())\n",
    "assert(mesh.size() == 10)\n",
    "mesh.updateNormals()\n",
    "aims.write(mesh, 'subject01_Lwhite_semiinflated_time.mesh')"
   ]
  },
  {
   "cell_type": "markdown",
   "metadata": {
    "deletable": true,
    "editable": true
   },
   "source": [
    "![Inflated mesh with timesteps](images/semi_inflated_time.png \"Inflated mesh with timesteps\")\n",
    "\n",
    "#### Textures\n",
    "\n",
    "A texture is merely a vector of values, each of them is assigned to a mesh vertex, with a one-to-one mapping, in the same order.\n",
    "A texture is also a time-texture."
   ]
  },
  {
   "cell_type": "code",
   "execution_count": 56,
   "metadata": {
    "collapsed": false,
    "deletable": true,
    "editable": true
   },
   "outputs": [
    {
     "name": "stdout",
     "output_type": "stream",
     "text": [
      "1\n",
      "10\n",
      "0.5\n"
     ]
    }
   ],
   "source": [
    "from soma import aims\n",
    "tex = aims.TimeTexture('FLOAT')\n",
    "t = tex[0] # time index, inserts on-the-fly\n",
    "t.reserve(10) # pre-allocates memory\n",
    "for i in xrange(10):\n",
    "    t.append(i / 10.)\n",
    "print(tex.size())\n",
    "assert(len(tex) == 1)\n",
    "print(tex[0].size())\n",
    "assert(len(tex[0]) == 10)\n",
    "print(tex[0][5])\n",
    "assert(tex[0][5] == 0.5)"
   ]
  },
  {
   "cell_type": "markdown",
   "metadata": {
    "deletable": true,
    "editable": true
   },
   "source": [
    "<div class=\"topic\">\n",
    "<p><b>Exercise</b></p>\n",
    "Make a time-texture, with at each time/vertex of the previous mesh, sets the value of the underlying volume *data_for_anatomist/subject01/subject01.nii*\n",
    "</div>"
   ]
  },
  {
   "cell_type": "code",
   "execution_count": 57,
   "metadata": {
    "collapsed": true,
    "deletable": true,
    "editable": true
   },
   "outputs": [],
   "source": [
    "from soma import aims\n",
    "mesh = aims.read('subject01_Lwhite_semiinflated_time.mesh')\n",
    "vol = aims.read('data_for_anatomist/subject01/subject01.nii')\n",
    "tex = aims.TimeTexture('FLOAT')\n",
    "vs = vol.header()['voxel_size']\n",
    "for i in range(mesh.size()):\n",
    "    t = tex[i]\n",
    "    vert = mesh.vertex(i)\n",
    "    t.reserve(len(vert))\n",
    "    for p in vert:\n",
    "        t.append(vol.value(*[int(round(x / y)) for x, y in zip(p, vs)]))\n",
    "aims.write(tex, 'subject01_Lwhite_semiinflated_texture.tex')"
   ]
  },
  {
   "cell_type": "markdown",
   "metadata": {
    "deletable": true,
    "editable": true
   },
   "source": [
    "Now look at the texture on the mesh (inflated or not) in Anatomist. Compare it to a 3D fusion between the mesh and the MRI volume.\n",
    "\n",
    "![Computed time-texture vs 3D fusion](images/texture.png \"Computed time-texture vs 3D fusion\")\n",
    "\n",
    "**Bonus:** We can do the same for functional data. \n",
    "But in this case we may have a spatial transformation to apply between anatomical data and functional data \n",
    "(which may have been normalized, or acquired in a different referential)."
   ]
  },
  {
   "cell_type": "code",
   "execution_count": 58,
   "metadata": {
    "collapsed": true,
    "deletable": true,
    "editable": true
   },
   "outputs": [],
   "source": [
    "from soma import aims\n",
    "import numpy\n",
    "mesh = aims.read('subject01_Lwhite_semiinflated_time.mesh')\n",
    "vol = aims.read('data_for_anatomist/subject01/Audio-Video_T_map.nii')\n",
    "# get header info from anatomical volume\n",
    "f = aims.Finder()\n",
    "assert(f.check('data_for_anatomist/subject01/subject01.nii'))\n",
    "anathdr = f.header()\n",
    "# get functional -> MNI transformation\n",
    "m1 = aims.AffineTransformation3d(vol.header()['transformations'][1])\n",
    "# get anat -> MNI transformation\n",
    "m2 = aims.AffineTransformation3d(anathdr['transformations'][1])\n",
    "# make anat -> functional transformation\n",
    "anat2func = m1.inverse() * m2\n",
    "# include functional voxel size to get to voxel coordinates\n",
    "vs = vol.header()['voxel_size']\n",
    "mvs = aims.AffineTransformation3d(numpy.diag(vs[:3] + [1.]))\n",
    "anat2func = mvs.inverse() * anat2func\n",
    "# now go as in the previous program\n",
    "tex = aims.TimeTexture('FLOAT')\n",
    "for i in xrange(mesh.size()):\n",
    "    t = tex[i]\n",
    "    vert = mesh.vertex(i)\n",
    "    t.reserve(len(vert))\n",
    "    for p in vert:\n",
    "        t.append(vol.value(*[int(round(x)) for x in anat2func.transform(p)]))\n",
    "aims.write(tex, 'subject01_Lwhite_semiinflated_audio_video.tex')"
   ]
  },
  {
   "cell_type": "markdown",
   "metadata": {
    "deletable": true,
    "editable": true
   },
   "source": [
    "See how the functional data on the mesh changes across the depth of the cortex. \n",
    "This demonstrates the need to have a proper projection of functional data before dealing with surfacic functional processing.\n",
    "\n",
    "\n",
    "### Buckets\n",
    "\n",
    "\"Buckets\" are voxels lists. They are typically used to represent ROIs.\n",
    "A BucketMap is a list of Buckets. Each Bucket contains a list of voxels coordinates.\n",
    "A BucketMap is represented by the class [soma.aims.BucketMap_VOID](pyaims_lowlevel.html#soma.aims.BucketMap_VOID)."
   ]
  },
  {
   "cell_type": "markdown",
   "metadata": {
    "deletable": true,
    "editable": true
   },
   "source": [
    "#### At the end, cleanup the temporary working directory"
   ]
  },
  {
   "cell_type": "code",
   "execution_count": 26,
   "metadata": {
    "collapsed": true,
    "deletable": true,
    "editable": true
   },
   "outputs": [],
   "source": [
    "# cleanup data\n",
    "import shutil\n",
    "os.chdir(older_cwd)\n",
    "shutil.rmtree(tuto_dir)"
   ]
  },
  {
   "cell_type": "code",
   "execution_count": null,
   "metadata": {
    "collapsed": true,
    "deletable": true,
    "editable": true
   },
   "outputs": [],
   "source": []
  }
 ],
 "metadata": {
  "kernelspec": {
   "display_name": "Python 2",
   "language": "python",
   "name": "python2"
  },
  "language_info": {
   "codemirror_mode": {
    "name": "ipython",
    "version": 2
   },
   "file_extension": ".py",
   "mimetype": "text/x-python",
   "name": "python",
   "nbconvert_exporter": "python",
   "pygments_lexer": "ipython2",
   "version": "2.7.12"
  }
 },
 "nbformat": 4,
 "nbformat_minor": 2
}
