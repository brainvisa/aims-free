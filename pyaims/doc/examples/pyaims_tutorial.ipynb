{
 "metadata": {
  "name": "pyaims_tutorial"
 },
 "nbformat": 3,
 "nbformat_minor": 0,
 "worksheets": [
  {
   "cells": [
    {
     "cell_type": "markdown",
     "metadata": {},
     "source": "pyaims: Python Medical Imaging Analysis Software\n\nCredit: Denis Riviere, Yann Cointepas and Nicolas Souedet\nPyaims is bindings over the Aims library. It allows to manage 2D/3D/4D images and apply processings on data. It is also possible to bind it with numpy/scipy libraries. Moreover it is also possible to partially access data for some imaging formats.\n\nDefinitions\nA Volume is a container that can contains voxelsd organized through 2D/3D/4D data.\n\nFirst check\nIn order to test if pyaims is installed on your machine, you can ask the the pyaims version:"
    },
    {
     "cell_type": "code",
     "collapsed": false,
     "input": "from soma import aims                            # Import pyaims\n\naims.__file__",
     "language": "python",
     "metadata": {},
     "outputs": [
      {
       "metadata": {},
       "output_type": "pyout",
       "prompt_number": 7,
       "text": "'/volatile/ns215310/development/svn/brainvisa_bioproj/brainvisa/build-bug_fix-Ubuntu-14.04-x86_64-debug/python/soma/aims/__init__.pyc'"
      }
     ],
     "prompt_number": 7
    },
    {
     "cell_type": "markdown",
     "metadata": {},
     "source": "Many volume types are available in pyaims:\n- Volume_U8\n- Volume_S8\n- Volume_U16\n- Volume_S16\n- Volume_U32\n- Volume_S32\n- Volume_FLOAT\n- Volume_DOUBLE\n- Volume_CFLOAT (complex numbers coded using float)\n- Volume_CDOUBLE (complex numbers coded using double)\n- Volume_RGB\n- Volume_RGBA\n- Volume_HSV\n\nTo instanciate a volume you must first specify the volume dimensions.\nThen you can fill a volume using a value. It is also possible to access a value at a particular position."
    },
    {
     "cell_type": "code",
     "collapsed": false,
     "input": "from soma.aims import Volume_S16                 # Import Volume_S16 from pyaims\n\nv = Volume_S16(10,10,10)                         # Instanciate a volume of 10x10x10 voxels of S16\nv.fill(14)                                       # Set each voxel of the volume to value 14\nv.value(9,9,9)                                   # Get the value of the voxel at the position (9,9,9)",
     "language": "python",
     "metadata": {},
     "outputs": [
      {
       "metadata": {},
       "output_type": "pyout",
       "prompt_number": 23,
       "text": "14"
      }
     ],
     "prompt_number": 23
    },
    {
     "cell_type": "markdown",
     "metadata": {},
     "source": "It is also possible to set a value at a particular position"
    },
    {
     "cell_type": "code",
     "collapsed": false,
     "input": "from soma.aims import Volume_S16                 # Import Volume_S16 from pyaims\n\nv = Volume_S16(10,10,10)                         # Instanciate a volume of 10x10x10 voxels of S16\nv.setValue(12,9,9,9)                             # Set the value 12 at the position (9,9,9)",
     "language": "python",
     "metadata": {},
     "outputs": [],
     "prompt_number": 24
    },
    {
     "cell_type": "markdown",
     "metadata": {},
     "source": "A volume has a header that contains many meta informations. To access the header of a volume use:"
    },
    {
     "cell_type": "code",
     "collapsed": false,
     "input": "from soma.aims import Volume_S16                 # Import Volume_S16 from pyaims\n\nv = Volume_S16(10,10,10)                         # Instanciate a volume of 10x10x10 voxels of S16\nv.header()                                       # Display the volume header",
     "language": "python",
     "metadata": {},
     "outputs": [
      {
       "metadata": {},
       "output_type": "pyout",
       "prompt_number": 25,
       "text": "{ 'sizeX' : 10, 'sizeY' : 10, 'sizeZ' : 10, 'sizeT' : 1 }"
      }
     ],
     "prompt_number": 25
    },
    {
     "cell_type": "markdown",
     "metadata": {},
     "source": "It is possible to set voxel size of the volume doing:"
    },
    {
     "cell_type": "code",
     "collapsed": false,
     "input": "from soma.aims import Volume_S16                 # Import Volume_S16 from pyaims\n\nv = Volume_S16(10,10,10)                         # Instanciate a volume of 10x10x10 voxels of S16\nh = v.header()                                   # Get a reference to the volume header\nh['voxel_size'] = [0.1,0.1,0.1]                  # Set voxel size meta information\nv.header()                                       # Display the volume header",
     "language": "python",
     "metadata": {},
     "outputs": [
      {
       "metadata": {},
       "output_type": "pyout",
       "prompt_number": 26,
       "text": "{ 'sizeX' : 10, 'sizeY' : 10, 'sizeZ' : 10, 'sizeT' : 1, 'voxel_size' : [ 0.1, 0.1, 0.1 ] }"
      }
     ],
     "prompt_number": 26
    },
    {
     "cell_type": "markdown",
     "metadata": {},
     "source": "A volume can be saved to disk using:"
    },
    {
     "cell_type": "code",
     "collapsed": false,
     "input": "from soma.aims import Volume_S16, write          # Import Volume_S16 and write method from pyaims\n\nv = Volume_S16(10,10,10)                         # Instanciate a volume of 10x10x10 voxels of S16\nv.fill(14)                                       # Set each voxel of the volume to value 14\nv.setValue(12,9,9,9)                             # Set the value 12 at the position (9,9,9)\n\nh = v.header()                                   # Get a reference to the volume header\nh['voxel_size'] = [0.1,0.1,0.1]                  # Set voxel size meta information\n\nwrite(v, '/tmp/test_volume.nii')                 # Write the volume to file '/tmp/test_volume.nii' using NIFTI-1 format",
     "language": "python",
     "metadata": {},
     "outputs": [],
     "prompt_number": 28
    },
    {
     "cell_type": "markdown",
     "metadata": {},
     "source": "3D/4D formats are supported:\n- NIFTI (1 & 2)\n- DICOM\n- ANALYZE\n- ECAT\n- MINC\n- GIS\n\n2D based formats are also usable:\n- TIFF\n- JPEG\n- PNG\n- BMP\n\nIn these 2D based formats, 3D/4D volumes are stored saving each slice in a separated file. Each file is numbered using a particular naming scheme that contains slice index (Z position) and time index (T position).\n\nOpenSlide 2D pyramidal formats for whole slide imaging are also supported for read only (if installed):\n- APERIO\n- HAMAMATSU\n- LEICA\n- MIRAX\n- PHILIPS\n- SAKURA\n- TRESTLE\n- VENTANA\n- ZEISS\n\nVolumes can be loaded from disk using:"
    },
    {
     "cell_type": "code",
     "collapsed": false,
     "input": "from soma.aims import read                       # Import read method from pyaims\n\nv = read('/tmp/test_volume.nii')                 # Load volume from disk\nv.header()                                       # Display the volume header",
     "language": "python",
     "metadata": {},
     "outputs": [
      {
       "metadata": {},
       "output_type": "pyout",
       "prompt_number": 29,
       "text": "{ 'sizeX' : 10, 'sizeY' : 10, 'sizeZ' : 10, 'sizeT' : 1, 'disk_data_type' : 'S16', 'bits_allocated' : 16, 'data_type' : 'S16', 'scale_factor_applied' : 0, 'possible_data_types' : [ 'S16', 'FLOAT', 'DOUBLE' ], 'cal_min' : 0, 'cal_max' : 0, 'freq_dim' : 0, 'phase_dim' : 0, 'slice_dim' : 0, 'slice_code' : 0, 'slice_start' : 0, 'slice_end' : 0, 'slice_duration' : 0, 'storage_to_memory' : [ -1, 0, 0, 9, 0, -1, 0, 9, 0, 0, -1, 9, 0, 0, 0, 1 ], 'voxel_size' : [ 0.100000001490116, 0.100000001490116, 0.100000001490116 ], 'tr' : 1, 'referentials' : [ 'Scanner-based anatomical coordinates' ], 'transformations' : [ [ -1, 0, 0, 0.5, 0, -1, 0, 0.400000005960464, 0, 0, -1, 0.400000005960464, 0, 0, 0, 1 ] ], 'toffset' : 0, 'xyz_units' : 0, 'time_units' : 0, 'descrip' : '', 'aux_file' : '', 'nifti_type' : 1, 'object_type' : 'Volume', 'volume_dimension' : [ 10, 10, 10, 1 ], 'file_type' : 'NIFTI-1' }"
      }
     ],
     "prompt_number": 29
    },
    {
     "cell_type": "markdown",
     "metadata": {},
     "source": "Some aims formats support partial read/write access. This is useful for parallel computing on volumes.\nFormats that supports partial accesses today are:\n- NIFTI (1 & 2)\n- DICOM\n- GIS\n- OpenSlide formats\n\nTo partialy read data, it is possible to specify a position to the begin of data to read in volume:"
    },
    {
     "cell_type": "code",
     "collapsed": false,
     "input": "from soma.aims import read                       # Import read method from pyaims\n\nv = read('/tmp/test_volume.nii', \n         options = {'ox': 8, 'oy': 8, 'oz': 8})  # Partially load volume from disk.\n                                                 #\u00a0A volume of 2x2x2 voxels is read\n                                                 #\u00a0from the (8,8,8)\nv.header()                                       # Display the volume header",
     "language": "python",
     "metadata": {},
     "outputs": [
      {
       "metadata": {},
       "output_type": "pyout",
       "prompt_number": 30,
       "text": "{ 'sizeX' : 2, 'sizeY' : 2, 'sizeZ' : 2, 'sizeT' : 1, 'voxel_size' : [ 0.100000001490116, 0.100000001490116, 0.100000001490116 ], 'disk_data_type' : 'S16', 'bits_allocated' : 16, 'data_type' : 'S16', 'scale_factor_applied' : 0, 'possible_data_types' : [ 'S16', 'FLOAT', 'DOUBLE' ], 'cal_min' : 0, 'cal_max' : 0, 'freq_dim' : 0, 'phase_dim' : 0, 'slice_dim' : 0, 'slice_code' : 0, 'slice_start' : 0, 'slice_end' : 0, 'slice_duration' : 0, 'storage_to_memory' : [ -1, 0, 0, 9, 0, -1, 0, 9, 0, 0, -1, 9, 0, 0, 0, 1 ], 'tr' : 1, 'referentials' : [ 'Scanner-based anatomical coordinates' ], 'transformations' : [ [ -1, 0, 0, 0.5, 0, -1, 0, 0.400000005960464, 0, 0, -1, 0.400000005960464, 0, 0, 0, 1 ] ], 'toffset' : 0, 'xyz_units' : 0, 'time_units' : 0, 'descrip' : '', 'aux_file' : '', 'nifti_type' : 1, 'object_type' : 'Volume', 'format' : 'NIFTI-1', 'volume_dimension' : [ 10, 10, 10, 1 ] }"
      }
     ],
     "prompt_number": 30
    },
    {
     "cell_type": "markdown",
     "metadata": {},
     "source": "It is also possible to specify these positions through url parameters:"
    },
    {
     "cell_type": "code",
     "collapsed": false,
     "input": "from soma.aims import read                       # Import read method from pyaims\n\nv = read('/tmp/test_volume.nii?ox=8&oy=8&oz=8')  # Partially load volume from disk.\n                                                 #\u00a0A volume of 2x2x2 voxels is read\n                                                 #\u00a0from the (8,8,8)\nv.header()                                       # Display the volume header",
     "language": "python",
     "metadata": {},
     "outputs": [
      {
       "metadata": {},
       "output_type": "pyout",
       "prompt_number": 20,
       "text": "{ 'sizeX' : 2, 'sizeY' : 2, 'sizeZ' : 2, 'sizeT' : 1, 'voxel_size' : [ 0.100000001490116, 0.100000001490116, 0.100000001490116 ], 'disk_data_type' : 'S16', 'bits_allocated' : 16, 'data_type' : 'S16', 'scale_factor_applied' : 0, 'possible_data_types' : [ 'S16', 'FLOAT', 'DOUBLE' ], 'cal_min' : 0, 'cal_max' : 0, 'freq_dim' : 0, 'phase_dim' : 0, 'slice_dim' : 0, 'slice_code' : 0, 'slice_start' : 0, 'slice_end' : 0, 'slice_duration' : 0, 'storage_to_memory' : [ -1, 0, 0, 9, 0, -1, 0, 9, 0, 0, -1, 9, 0, 0, 0, 1 ], 'tr' : 1, 'referentials' : [ 'Scanner-based anatomical coordinates' ], 'transformations' : [ [ -1, 0, 0, 0.5, 0, -1, 0, 0.400000005960464, 0, 0, -1, 0.400000005960464, 0, 0, 0, 1 ] ], 'toffset' : 0, 'xyz_units' : 0, 'time_units' : 0, 'descrip' : '', 'aux_file' : '', 'nifti_type' : 1, 'object_type' : 'Volume', 'volume_dimension' : [ 2, 2, 2, 1 ], 'file_type' : 'NIFTI-1' }"
      }
     ],
     "prompt_number": 20
    },
    {
     "cell_type": "markdown",
     "metadata": {},
     "source": "It is also possible to use pyaims volumes in conjunction with numpy/scipy:"
    },
    {
     "cell_type": "code",
     "collapsed": false,
     "input": "from numpy     import array                      #\u00a0Import array from numpy\nfrom soma.aims import read                       # Import read method from pyaims\n\nv = read('/tmp/test_volume.nii', \n         options = {'ox': 8, 'oy': 8, 'oz': 8})  # Partially load volume from disk.\n                                                 #\u00a0A volume of 2x2x2 voxels is read\n                                                 #\u00a0from the (8,8,8)\na = array(v, copy=False)                         # Get access to pyaims volume through numpy array\na",
     "language": "python",
     "metadata": {},
     "outputs": [
      {
       "metadata": {},
       "output_type": "pyout",
       "prompt_number": 31,
       "text": "array([[[[14],\n         [14]],\n\n        [[14],\n         [14]]],\n\n\n       [[[14],\n         [14]],\n\n        [[14],\n         [12]]]], dtype=int16)"
      }
     ],
     "prompt_number": 31
    },
    {
     "cell_type": "code",
     "collapsed": false,
     "input": "",
     "language": "python",
     "metadata": {},
     "outputs": []
    }
   ],
   "metadata": {}
  }
 ]
}